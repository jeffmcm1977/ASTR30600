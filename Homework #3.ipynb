{
 "cells": [
  {
   "cell_type": "markdown",
   "id": "d0dec4eb",
   "metadata": {},
   "source": [
    "# Homework 3\n",
    "\n",
    "Here are some useful funcitons to make this easier.  This is experimental so we will do this as a workshop in class."
   ]
  },
  {
   "cell_type": "code",
   "execution_count": 1,
   "id": "de2f7ff5",
   "metadata": {},
   "outputs": [],
   "source": [
    "## import libraries\n",
    "import numpy as np\n",
    "import matplotlib.pyplot as plt\n",
    "\n",
    "## generate x,y, and r coordinates on a 2 d grid\n",
    "N = 2048\n",
    "lenght = 20 ## in meters\n",
    "x = np.linspace(-lenght,lenght,num = N)  ### convetion-- x and y are in meters\n",
    "y = np.linspace(-lenght,lenght,num = N)\n",
    "y,x = np.meshgrid(x,y)\n",
    "r = np.sqrt(x**2 + y**2)\n",
    "\n",
    "mirror_diameter  = 8. ## in meters\n",
    "on_mirror = np.where(r < mirror_diameter/2)\n"
   ]
  },
  {
   "cell_type": "markdown",
   "id": "f74e3d5b",
   "metadata": {},
   "source": [
    "\n",
    "## problem 1:\n",
    "Generate a 2 dimensional realization of a [Kolmagrov spectrum](https://en.wikipedia.org/wiki/Astronomical_seeing) and plot it."
   ]
  },
  {
   "cell_type": "code",
   "execution_count": null,
   "id": "e79c1d50",
   "metadata": {},
   "outputs": [],
   "source": []
  },
  {
   "cell_type": "markdown",
   "id": "9be0d6c2",
   "metadata": {},
   "source": [
    "## problem 2\n",
    "Treat this kolmagrove spectrum as variations in the phase.   Simulate the impact of this phase on an 8 meter telescope at a wavelength of 500 nm.  Plot the PSF and the encircled energy with and without the atmospheric phase variations.  Normalize the amplitude of your phase so that the seeing is approxamatly one arcminute.  Note: below you will average over multiple realizations which is what is needed to infer the true PSF-- this should be approxiate."
   ]
  },
  {
   "cell_type": "code",
   "execution_count": null,
   "id": "414a6805",
   "metadata": {},
   "outputs": [],
   "source": []
  },
  {
   "cell_type": "markdown",
   "id": "f39b004d",
   "metadata": {},
   "source": [
    "## problem 2b\n",
    "\n",
    "Discuss (speckle immaging)[https://en.wikipedia.org/wiki/Speckle_imaging]-- what is it and how does it work."
   ]
  },
  {
   "cell_type": "code",
   "execution_count": null,
   "id": "50d6d8bb",
   "metadata": {},
   "outputs": [],
   "source": []
  },
  {
   "cell_type": "markdown",
   "id": "61897b2a",
   "metadata": {},
   "source": [
    "## problem 3\n",
    "Average 1000 realizations of your atmosphere.  Fit the profile to a gaussian convolved with a seeing disc.   "
   ]
  },
  {
   "cell_type": "code",
   "execution_count": null,
   "id": "3c76deee",
   "metadata": {},
   "outputs": [],
   "source": []
  },
  {
   "cell_type": "markdown",
   "id": "1dec5fca",
   "metadata": {},
   "source": [
    "## problem 4\n",
    "\n",
    "Sky brightness was recently measured at the Magellan Las Campanas Observatory in [this paper](https://iopscience.iop.org/article/10.3847/1538-3881/ad165c). They give a sky brightness in V-band of 22 mag / arcsec$^2$.   What is the limiting magnitude measureable given arcsecond seeing and what is measurable with an AO system turned on.  You may solve this analytically or with a simulation.  (When I was a child I remember seeing Jupiter through the Griffith park telescope during the day-- a related calculation explains how that works).  Discuss how AO impacts both imaging and spectrosacpy. "
   ]
  },
  {
   "cell_type": "code",
   "execution_count": null,
   "id": "3c6d54ea",
   "metadata": {},
   "outputs": [],
   "source": []
  },
  {
   "cell_type": "markdown",
   "id": "ef5c1e14",
   "metadata": {},
   "source": [
    "## problem 5\n",
    "\n",
    "Model a corronagraph as a disc shaped mask followed by an aperature stop before reimaging optics that map the beam onto an imaging array.  (E.g., start with the telescope model above, mask, FFT, apreture stop, FFT).  Carry out this calculation with and with out our atmospheric model turned on.   Convolve the results with a model for a star and a planet.   Compare and comment on the importance of addaptive optics for coronogrpahs."
   ]
  },
  {
   "cell_type": "code",
   "execution_count": null,
   "id": "3913ea40",
   "metadata": {},
   "outputs": [],
   "source": []
  }
 ],
 "metadata": {
  "kernelspec": {
   "display_name": "Python 3 (ipykernel)",
   "language": "python",
   "name": "python3"
  },
  "language_info": {
   "codemirror_mode": {
    "name": "ipython",
    "version": 3
   },
   "file_extension": ".py",
   "mimetype": "text/x-python",
   "name": "python",
   "nbconvert_exporter": "python",
   "pygments_lexer": "ipython3",
   "version": "3.11.5"
  }
 },
 "nbformat": 4,
 "nbformat_minor": 5
}
