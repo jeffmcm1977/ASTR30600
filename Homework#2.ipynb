{
 "cells": [
  {
   "cell_type": "markdown",
   "id": "4903ef85",
   "metadata": {},
   "source": [
    "# Exercise 1: \n",
    "Compute the PSF for JWST with and with out the metiorite hit deformation.  A contour plot shown in this [article](https://www.livescience.com/james-webb-space-telescope-micrometeoroid-picture) implies the deformation can be moddled as a appropriate sized gaussian with an amplitude of about 1000 nm.  Assume a 1000 nm wavelenght for your calculation.  Plot your model of the phase for the model of the mirror after the metiorite strike.  Plot the PSF with and with out this deformation in dB.  Also plot the differences of the beams with and without this effect.   A model for the JWST aperature fields can be found [here] (https://github.com/McMahonCosmologyGroup/cmbInstrumentSummerSchool/blob/main/Notebook3_bonus_optics.ipynb) use this as a starting point-- it will save you a huge amount of time."
   ]
  },
  {
   "cell_type": "code",
   "execution_count": null,
   "id": "e4487bb9",
   "metadata": {},
   "outputs": [],
   "source": []
  },
  {
   "cell_type": "markdown",
   "id": "26f80f49",
   "metadata": {},
   "source": [
    "# Excercise 2\n",
    "1. Compute the PSF for [GMT](https://en.wikipedia.org/wiki/Giant_Magellan_Telescope) at 500 nm wavelenght.  Model the [primary mirror](https://giantmagellan.org/telescope-primary-mirrors/) as seven 8.4 m discs. [reference](https://mirrorlab.arizona.edu/content/gmt-giant-magellan-telescope).  The central mirror segment has a circular hole which appears to be about 2.5 m in diameter.    You can ignore the blockage from the spider, and treat the blockage of the secondary as circular.  \n",
    "\n",
    "1. (opitonal, for bragging rights only) If you wish you can add the spiders and the triangular secondary support structure-- this part is optional.  It is for extra realisim is you wish it.\n",
    "\n",
    "1. One criticisms faced by the GMT deisn is the \"phasing of the mirrors\".  (I am told this risk is reited as demonstrated by the [Large Binocular Telescope](https://www.lbto.org).)  Model this effect by assuming each mirror is missaligned in the z-direciotn by an amount drawn from a gaussian distribution with a widht of 100, 10, 1, and 0.1 microns. Compare each of these PSFs and comment on the imapct and what constitiutes an acceptable controll over this effect.\n",
    "\n",
    "\n"
   ]
  },
  {
   "cell_type": "code",
   "execution_count": null,
   "id": "54902f5f",
   "metadata": {},
   "outputs": [],
   "source": []
  },
  {
   "cell_type": "markdown",
   "id": "e6783ff9",
   "metadata": {},
   "source": [
    "# Excercise 3\n",
    "\n",
    "What mirror RMS is needed to achieve 90% efficiency at 1 mm wavelenghth?   Express this both as a lenght, and a fraciton of the wavelenght.  You can solve this problem computationally, analytically, or both."
   ]
  },
  {
   "cell_type": "code",
   "execution_count": null,
   "id": "8f4d4bae",
   "metadata": {},
   "outputs": [],
   "source": []
  },
  {
   "cell_type": "markdown",
   "id": "e03d1fb3",
   "metadata": {},
   "source": [
    "# Excercise 4\n",
    "\n",
    "Working from the Frensel diffraction exmaple from the [notes](https://github.com/jeffmcm1977/ASTR30600/blob/main/Optics_v2.ipynb), compute the diffraciton pattern of a circluar blockage at 4 distances between the given distance and the blockage.  Note how the fields evolve as they propigate."
   ]
  },
  {
   "cell_type": "code",
   "execution_count": null,
   "id": "88e3d52e",
   "metadata": {},
   "outputs": [],
   "source": []
  },
  {
   "cell_type": "markdown",
   "id": "c9e6d4a8",
   "metadata": {},
   "source": [
    "# Excercise 5\n",
    "\n",
    "Use the simulation of the periodic grating spectrometer from the [notes] to answere these questions.\n",
    "\n",
    "1. Estimate R from the simulation by applying the Rayleigh crietion\n",
    "\n",
    "1. Estimate the bandwidth availble in the first order and third order for this grating.\n",
    "\n",
    "1. double the width of the simulated grid (and the number of pixels per side of our simulation)-- how does R change? What does this tell you about how you would design a spectrometer?"
   ]
  },
  {
   "cell_type": "code",
   "execution_count": null,
   "id": "b49071ce",
   "metadata": {},
   "outputs": [],
   "source": []
  }
 ],
 "metadata": {
  "kernelspec": {
   "display_name": "Python 3 (ipykernel)",
   "language": "python",
   "name": "python3"
  },
  "language_info": {
   "codemirror_mode": {
    "name": "ipython",
    "version": 3
   },
   "file_extension": ".py",
   "mimetype": "text/x-python",
   "name": "python",
   "nbconvert_exporter": "python",
   "pygments_lexer": "ipython3",
   "version": "3.11.5"
  }
 },
 "nbformat": 4,
 "nbformat_minor": 5
}
