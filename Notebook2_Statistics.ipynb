{
 "cells": [
  {
   "cell_type": "markdown",
   "id": "17083941",
   "metadata": {},
   "source": [
    "# Basic Statistics\n",
    "\n",
    "## probability distrition funcitons (PDFs)\n",
    "\n",
    "A vast library of statistical distibtions with analytic descripions have been extensivly studdied and named.  These can be found in books on statistics and on [wikipedia](https://en.wikipedia.org/wiki/List_of_probability_distributions).  These distributions give the probaility density $P(x)$ which gives the relative probability that a random variable $x$ will occur.  A random variable is a potential outcome of an experiment or population, what we call a ‘data point’. Some obvious examples include the observed magnitude and the inferred redshifts or even categories like stars versus galaxies. Other examples include intensity as a function of sky location, wavelength, or of time. \n",
    "\n",
    "These PDfs are typically normalized such that $\\int P(x) dx = 1$.  With this normalizaiton we can interpret the proability of some range of events by integrating over that range.   For example the probability that $1<x<2$ is given by $\\int_1^2 P(x) dx.  This is how we convert 1 and 2 sigma gaussian errors to the 68\\% and 95\\% confidence intervals.\n",
    "\n",
    "\n",
    "\n",
    "\n",
    "\n",
    "\n",
    "### Examples of distributions\n",
    "\n",
    "Some imortant distibtions include:\n",
    "\n",
    "1. The Gaussian (A.K.A. Normal) distribution which is the most well know statistical distibtion.   It provides a good description of some (or depending on your attitude many) experimental results.  In can be represnted as \n",
    "$$ P(x) =\\frac{1}{\\sigma \\sqrt{2 \\pi}} e^{\\frac{-1}{2} \\left(\\frac{(x-\\mu)}{\\sigma}\\right)^2 } $$ where $\\mu$ is the mean, and $\\sigma$ is the standard deviation.  \n",
    "\n",
    "1. The Poisson distirbiton which describes the probability of some number of uncorrelated events happening in a given time interval.  $$ P(k,\\lambda) =\\frac{\\lambda^k e^{-\\lambda} }{k!}. $$  Here $\\lambda$ is the probibility mass funciton, and $k$ is the number occurances.  Examples could include radioactive decay, or the arrival of photons in a astronomical destector.  For example if one 10 X-ray photons strike a detecor in 20 s, then the $\\lambda = 0.5$ for a one second interval.  The poisson distribiton can then be evaluated to find the probaibility of detecting 1, 2, ...  photons in one second.\n",
    "\n",
    "1. The Chi-squared distribiton gives the distribtion of the sum of the squares of $k$ indepndant gaussian distribtions.  $$P(x) = \\frac{1}{2^{k/2} \\Gamma(k/2) x^{k/2-1}e^{-x/2} .}$$ Here $k$ is the number of degrees of freedom, $x$ is the statistical quantity, and $\\Gamma$ is a gamma function which like $\\sin(x)$ can be evaluaed by computers.   This distribiton is very useful for goodnetss of fit tests.\n",
    "\n",
    "1. The uniform distribtion which can be used to model where a point will fall in an interval with uniform probability.\n",
    " \n",
    "\n",
    "In what follows we will generate realizations of these simulated data to illustrate some of the aspects of statistics that will be used in this course.\n",
    "\n",
    "\n",
    "\n",
    "\n"
   ]
  },
  {
   "cell_type": "markdown",
   "id": "59116e7e",
   "metadata": {},
   "source": [
    "## generating realizations of a distribtion\n",
    "\n",
    "Python 9 makes it easy to generate realizations of data from a wide variety of statical distribtions.  (see [Numpy](https://docs.scipy.org/doc/numpy-1.15.0/reference/routines.random.html))\n",
    "\n",
    "Lets start by generating a ralization of gaussian noise comparing it to the analytic form above. \n",
    "\n"
   ]
  },
  {
   "cell_type": "code",
   "execution_count": 3,
   "id": "2aa8fe7a",
   "metadata": {},
   "outputs": [
    {
     "data": {
      "text/plain": [
       "[<matplotlib.lines.Line2D at 0x7f93287c8310>]"
      ]
     },
     "execution_count": 3,
     "metadata": {},
     "output_type": "execute_result"
    },
    {
     "data": {
      "image/png": "[encoded data removed]",
      "text/plain": [
       "<Figure size 432x288 with 1 Axes>"
      ]
     },
     "metadata": {
      "needs_background": "light"
     },
     "output_type": "display_data"
    }
   ],
   "source": [
    "## import useful libraries\n",
    "import numpy as np\n",
    "import matplotlib.pyplot as plt\n",
    "\n",
    "## generate a realization of 1000 samples following a gaussian distribtion with zero mean and unit variance\n",
    "\n",
    "data = np.random.randn(500)\n",
    "plt.plot(data,\".\")\n"
   ]
  },
  {
   "cell_type": "markdown",
   "id": "3d638f84",
   "metadata": {},
   "source": [
    "A very useful way to intrepret data is to make a higogram. These can be compared to Theoretical distribtions."
   ]
  },
  {
   "cell_type": "code",
   "execution_count": 4,
   "id": "2c314717",
   "metadata": {},
   "outputs": [
    {
     "data": {
      "text/plain": [
       "[<matplotlib.lines.Line2D at 0x7f93581f9d30>]"
      ]
     },
     "execution_count": 4,
     "metadata": {},
     "output_type": "execute_result"
    },
    {
     "data": {
      "image/png": "[encoded data removed]",
      "text/plain": [
       "<Figure size 432x288 with 1 Axes>"
      ]
     },
     "metadata": {
      "needs_background": "light"
     },
     "output_type": "display_data"
    }
   ],
   "source": [
    "## make and plot a histrogam\n",
    "plt.hist(data, bins='auto')\n",
    "\n",
    "## overplot the analytic form of a gaussin, guess the ampltude \n",
    "A = 60\n",
    "sigma = 1\n",
    "x = np.arange(-3,3,0.1)\n",
    "Gaussian = A *np.exp(-0.5*(x/sigma)**2)\n",
    "plt.plot(x,Gaussian,\"r-\",linewidth=3)"
   ]
  },
  {
   "cell_type": "markdown",
   "id": "1b23fdc9",
   "metadata": {},
   "source": [
    "### Excercise: \n",
    "Create simulated data to have a mean of 1, and a variance differnt from 0.33.  Plot the data vs sampel and make a histrogram including the analytic fit as we did for the simple example above.  Estimate (by runing multiple caseses, multiple times) how many samples do you need to draw before you find one below zero? Discuss how this relates to 3 sigma results and why they are not regarded as sufficent for a discovery."
   ]
  },
  {
   "cell_type": "code",
   "execution_count": 5,
   "id": "d65e8b89",
   "metadata": {},
   "outputs": [],
   "source": [
    "## your code goes here"
   ]
  },
  {
   "cell_type": "markdown",
   "id": "17fc6cb8",
   "metadata": {},
   "source": [
    "your discussion goes here"
   ]
  },
  {
   "cell_type": "markdown",
   "id": "91631425",
   "metadata": {},
   "source": [
    "\n",
    "## calculating moments\n",
    "\n",
    "It is often useful to compute moments of these distribtutions to summarize (compress) the information they contain.  The mean and variance are the most famous examples.  The genral equaiton for moments is:\n",
    "\n",
    "#### \n",
    "\n",
    "\\begin{equation}\n",
    "\\langle x^n \\rangle  = \\rm{E(x^n)} = \\displaystyle\\int_{-\\infty}^{\\infty} x^n \\phi(x) dx\n",
    "\\label{eq:moments} \\tag{4}\n",
    "\\end{equation}\n",
    "\n",
    "where $\\langle x^n \\rangle  = \\rm{E(x^n)}$ is defined as the expectation value. n = 1,2,3 are the first, second, third, etc moments. \n",
    "\n",
    "The first moment is just the (PDF) weighted mean (see above example). \n",
    "\n",
    "<i> Centered moments </i> are higher moments shifted to this mean: $\\mu^n = \\langle (x - \\langle x \\rangle )^n \\rangle$\n",
    "\n",
    "An important centered moment is for n = 2: $\\mu^2 = \\langle (x - \\langle x \\rangle )^2 \\rangle$. What do we call this?\n",
    "\n",
    "\n",
    "We define the above as the <i>variance</i>, which is the square of the spread about the mean. One can easily show that:\n",
    "\n",
    "$$\\mu^2 = E(x^2) - (E(x))^2$$\n",
    "\n",
    "One can use the above techniques to calculate the variance about the mean of the <i>Poisson Distribution</i> and find:\n",
    "\n",
    "$$\\mu^2 = \\sigma^2 = \\lambda$$\n",
    "\n",
    "where we have switched to the more common variance label, $\\sigma^2$. It is interesting that the variance in a Poisson distribution has the same value is its mean.\n",
    "\n",
    "If you have evidence that your data were generated through a Poisson process (or you measure a Poisson process), you will often see means and errors quoted as $m \\pm{\\sqrt{m}}$ (e.g. photon counting with $m$ counts). \n",
    "\n",
    "The third moment, called the skewness, $⟨x^3⟩$, characterizes the simplest asymmetry, while the fourth moment, the kurtosis, $⟨x^4⟩$, characterizes the flatness of the distribution.\n",
    "\n"
   ]
  },
  {
   "cell_type": "markdown",
   "id": "9a169a94",
   "metadata": {},
   "source": [
    "### Excercise\n",
    "Generate a realization of the Poisson distribtion with 10000 saples and lamda = 10.  Compute the mean, standard deviation, skewness, and kertossis.  "
   ]
  },
  {
   "cell_type": "code",
   "execution_count": 6,
   "id": "eb960bd9",
   "metadata": {},
   "outputs": [],
   "source": [
    "## your code goes in this box"
   ]
  },
  {
   "cell_type": "markdown",
   "id": "c71c1ff4",
   "metadata": {},
   "source": [
    "discussion goes here"
   ]
  },
  {
   "cell_type": "markdown",
   "id": "b48eb64a",
   "metadata": {},
   "source": [
    "## Multiple random processes\n",
    "\n",
    "Often multiple random porcesses, perhaps obeying seperate statistical distribtions will contribute to the description of the data.  A question that comes up a lot is: \"what happens to the momnents\" in cases where multiple sources of errors are present.  The following math proves the rule that for statistically indpendant quantities, the moments of the sum is the sum of the moments.\n",
    "\n",
    "\\begin{align*} \n",
    "\t\tE(X+Y) &= \\sum_{x} \\sum_{y} (x+y) p(x, y)\\\\ \n",
    "\t\t&= \\sum_{x} \\sum_{y}\\left(x p(x, y) + y p(x, y)\\right)\\\\ \n",
    "\t\t&= \\sum_{x} \\sum_{y} x p(x, y) + \\sum_{x} \\sum_{y} y p(x, y)\\\\ \n",
    "\t\t&= \\sum_x x \\sum_y p(x,y) + \\sum_y y \\sum_x p(x,y)\\\\ \n",
    "\t\t&= \\sum x p_X(x) + \\sum_y y p_Y(y)\\\\ \n",
    "\t\t&= E(X) + E(Y) \n",
    "\\end{align*}\n",
    "\n",
    "\n",
    "For example if X and Y are gaussians with unit varaince and we compute the variance of the sum we would get $\\sigma^2 = 2$.  Since the RMS = $\\sqrt{\\sigma^2}$ this shows the rule that ading equal errors increases the error by $\\sqrt{2}$."
   ]
  },
  {
   "cell_type": "markdown",
   "id": "511d0437",
   "metadata": {},
   "source": [
    "###Excercise: \n",
    "\n",
    "Imagine a light detector with an intrinsic noise described by a gaussian of mean zero and unit variance.  Call this distribtion $x_1$   If this detector is pointed at the sky, atmospheric emission could contribute a statisticaly indepndant signal described by poisson statisstics.  Call this signal $x_2$ and assume $\\lambda = 0.2$.  \n",
    "\n",
    "Compute the mean and the variance for these distribtins individually and for the sum.  Confirm that the moments of the sum is the sum of the moments for these two cases. "
   ]
  },
  {
   "cell_type": "code",
   "execution_count": 7,
   "id": "a54289fd",
   "metadata": {},
   "outputs": [],
   "source": [
    "## your code goes in this box"
   ]
  },
  {
   "cell_type": "markdown",
   "id": "58eb5bdd",
   "metadata": {},
   "source": [
    "## correlation and covariance\n",
    "\n",
    "#### \n",
    "Consider 4 coins and 5 flips each and we record the results:\n",
    "\n",
    "Coin 𝐴:+,−,−,+,−\n",
    "\n",
    "Coin 𝐵:−,−,−,−,+\n",
    "\n",
    "Coin 𝐶:+,−,+,+,−\n",
    "\n",
    "Coin 𝐷:−,+,−,−,+\n",
    "\n",
    "Which coins are correlated and by how much?\n",
    "\n",
    "##### \n",
    "....we define a function that is positive when the two results are similar, and negative when they are dissimilar. The easiest function is multiplication: it will be positive when the coins have the same result (++ or --) and negative when they differ (+- and -+). \n",
    "\n",
    "We can multiply each trial, $\\it{then\\ average\\ the\\ results}$ to get an overall estimate of how similar the results are.\n",
    "\n",
    "$\\begin{align}\n",
    "C_{AB} &= \\frac{-1+1+1-1-1}{5} = 0.2 \\tag{5}\\\\\n",
    "C_{AC} &= \\frac{+1+1-1+1+1}{5} = 0.6 \\tag{6}\\\\\n",
    "C_{AD} &= \\frac{-1-1+1-1-1}{5} = -0.6 \\tag{7} \\\\\n",
    "\\end{align}$\n",
    "\n",
    "So 𝐴 and 𝐵 seem pretty uncorrelated, 𝐴 and 𝐶 may be correlated, and 𝐴 and 𝐷 are anti-correlated.\n",
    "\n",
    "### formal definitions\n",
    "\n",
    "For bivariate distributions (of two random variables), consider the probaility distribution $\\phi(x,y)$ where the random variables $X$ and $Y$ are <i>NOT</i> independent, one can also define a covariance (assuming $⟨x⟩ = ⟨y⟩ = 0$):\n",
    "\n",
    "$$Cov(x,y) = \\langle xy \\rangle = \\int_{-\\infty}^{\\infty} xy\\ \\phi(xy)\\ dxdy = E\\big[(xy)\\big] \\tag{8}$$\n",
    "\n",
    "This leads to a formal definition of the correlation coefficient:\n",
    "\n",
    "$$r = \\frac{Cov(x,y)}{Var(x)Var(y)} \\tag{9}$$\n",
    "\n",
    "where $Var$ is the variance as defined above. \n",
    "\n",
    "with more than two variables are present we often subscript $r$ as $r_{ij}$ where $i$ and $j$ specify the two channels being considered.  The collection of all possible $r_{ij}$ elements represtns the covaraince (or correleation) matrix.\n",
    "\n",
    "### equivelent definitions\n",
    "Sometimes, you will see an equivalent definiton using vectors (for centered data):\n",
    "\n",
    "$$r = cos\\theta = \\frac{\\vec{a} \\cdot \\vec{b}}{|a||b|}$$\n",
    "\n",
    "If the data are not centered, then we have:\n",
    "$$Cov(x,y) = E\\big[(x-\\mu_x)(y-\\mu_y)\\big]$$\n",
    "\n",
    "and\n",
    "\n",
    "$$r = \\frac{E\\big[(x-\\mu_x)(y-\\mu_y)\\big]}{\\sqrt{\\mu^2_x\\mu^2_y}}$$\n",
    "\n",
    "which is nominally known as the <i> Pearson correlation coefficient </i>.\n",
    "\n",
    "In practive for a sample of $x,y$ pairs, we write:\n",
    "\n",
    "$$r = \\frac{\\sum_{i=1}^{N}(x_i - \\bar{x})(y_i - \\bar{y})}{\\sqrt{\\sum_{i=1}^{N}(x_i - \\bar{x})^2}\\sqrt{\\sum_{i=1}^{N}(y_i - \\bar{y})^2}} \\tag{10}$$\n",
    "\n",
    "Covariance can range from -$\\infty$ to +$\\infty$. But Correlation ranges from -1 to +1. Unlike the correlation, the magnitude of the covariance does not mean anything since it is dependent upon the magnitude of the constituent of the series. However in both cases, the sign DOES matter. \n",
    "\n",
    "To be super clear, <i>correlation is the covariance</i>, but normalized to the sample variances. Because it is normalized, the value of the correlation becomes a meaningful quantity to compare to other correlations.\n",
    "\n",
    "There is a fun article which presents 13 different (!) interpretations of correlation [here](https://www.stat.berkeley.edu/~rabbee/correlation.pdf)."
   ]
  },
  {
   "cell_type": "markdown",
   "id": "f85c51bc",
   "metadata": {},
   "source": [
    "### Excercise\n",
    "\n",
    "Consider the three timesreams given below $x$, $y$, and $z$.  Compute the covariance, and the correlation between these channels.   How many independant covarainces and correlations are there to compute?"
   ]
  },
  {
   "cell_type": "code",
   "execution_count": 8,
   "id": "5def1604",
   "metadata": {},
   "outputs": [
    {
     "data": {
      "text/plain": [
       "[<matplotlib.lines.Line2D at 0x7f9369081f10>]"
      ]
     },
     "execution_count": 8,
     "metadata": {},
     "output_type": "execute_result"
    },
    {
     "data": {
      "image/png": "[encoded data removed]",
      "text/plain": [
       "<Figure size 432x288 with 1 Axes>"
      ]
     },
     "metadata": {
      "needs_background": "light"
     },
     "output_type": "display_data"
    }
   ],
   "source": [
    "A = np.random.randn(1000)\n",
    "B = np.random.randn(1000)\n",
    "C = np.random.randn(1000)\n",
    "\n",
    "x = A +2*B\n",
    "y = -2*A - 2*B -0.5*C\n",
    "z=  C\n",
    "\n",
    "plt.plot(x,\",\")\n",
    "plt.plot(y,\",\")\n",
    "plt.plot(z,\",\")\n",
    "\n",
    "\n",
    "## compute your answeres here."
   ]
  },
  {
   "cell_type": "markdown",
   "id": "a04f4690",
   "metadata": {},
   "source": [
    "## error bars\n",
    "\n",
    "Often you will use statistics to sumarize data and test models.   For example, imagine trying to find the BAO bump in the correlation funciton.   We will build a toy model for this correlation funciton and then simulate error bars on this toy model both with an without correlations.  The first goal will be to teach you how to scrutinize plots with error bars and assess if they have correlations.  The second goal will be to learn how to use chi-squared to test models.\n",
    "\n"
   ]
  },
  {
   "cell_type": "code",
   "execution_count": 59,
   "id": "51001db9",
   "metadata": {},
   "outputs": [
    {
     "data": {
      "text/plain": [
       "(-0.1, 0.2)"
      ]
     },
     "execution_count": 59,
     "metadata": {},
     "output_type": "execute_result"
    },
    {
     "data": {
      "image/png": "[encoded data removed]",
      "text/plain": [
       "<Figure size 432x288 with 1 Axes>"
      ]
     },
     "metadata": {
      "needs_background": "light"
     },
     "output_type": "display_data"
    }
   ],
   "source": [
    "## make a toy modle for the galaxy-galaxy corerlation funciton\n",
    "\n",
    "r = np.arange(190) + 10\n",
    "gal_gal_cor_empricial_theory = 1*(1/10.)**(r/50.)+ 0.02*np.exp(-0.5*((r-100)/10.)**2)\n",
    "plt.plot(r,gal_gal_cor_empricial_theory)\n",
    "plt.xlabel(\"r (MPc / h)\")\n",
    "plt.ylabel(\"correlation fucntion (arb)\")\n",
    "\n",
    "\n",
    "## make simulated data with error bars, no correlation\n",
    "bin_width = 10. # the sampling of the measurement\n",
    "N_pts_in_bin  = 5 # numper of samples used to compute the mean and rms in each bin\n",
    "N_data_pts = 190 / bin_width  ## number of data points for the plot\n",
    "sigma_corr = 0.02  ## uncertainty in the correlatoin fucntion\n",
    "\n",
    "i = 0\n",
    "while (i < N_data_pts):\n",
    "    r_bin  = bin_width*(i+1)\n",
    "    theory_mean = gal_gal_cor_empricial_theory[(np.where(r == r_bin))[0] ]\n",
    "    data_in_bin = np.random.randn(N_pts_in_bin)*sigma_corr + theory_mean\n",
    "    mean_pt = np.mean(data_in_bin)\n",
    "    stdev_pt = np.std(data_in_bin)\n",
    "    plt.errorbar(r_bin,mean_pt,stdev_pt,marker='s',mec='red',mfc='red',c=\"red\")\n",
    "    i+=1\n",
    "\n",
    "plt.title(\"uncorrelated\")\n",
    "plt.ylim(-.1,.2)\n",
    "\n",
    "\n"
   ]
  },
  {
   "cell_type": "markdown",
   "id": "35f4dc72",
   "metadata": {},
   "source": [
    "## Excercise\n",
    "\n",
    "why don't the central values (eg the squares) lie on the line? Re-run this code and see how varius relaizations look. increase N_pts_in_bin and see how the mean converges and the variance on the variance decreases.  Discuss"
   ]
  },
  {
   "cell_type": "markdown",
   "id": "97ce2622",
   "metadata": {},
   "source": [
    "### correlated case"
   ]
  },
  {
   "cell_type": "code",
   "execution_count": 57,
   "id": "8ee86ed4",
   "metadata": {},
   "outputs": [
    {
     "data": {
      "text/plain": [
       "(-0.1, 0.2)"
      ]
     },
     "execution_count": 57,
     "metadata": {},
     "output_type": "execute_result"
    },
    {
     "data": {
      "image/png": "[encoded data removed]",
      "text/plain": [
       "<Figure size 432x288 with 1 Axes>"
      ]
     },
     "metadata": {
      "needs_background": "light"
     },
     "output_type": "display_data"
    }
   ],
   "source": [
    "## make a toy modle for the galaxy-galaxy corerlation funciton\n",
    "\n",
    "r = np.arange(190) + 10\n",
    "gal_gal_cor_empricial_theory = 1*(1/10.)**(r/50.)+ 0.02*np.exp(-0.5*((r-100)/10.)**2)\n",
    "plt.plot(r,gal_gal_cor_empricial_theory)\n",
    "plt.xlabel(\"r (MPc / h)\")\n",
    "plt.ylabel(\"correlation fucntion (arb)\")\n",
    "\n",
    "\n",
    "## make simulated data with error bars, no correlation\n",
    "bin_width = 10. # the sampling of the measurement\n",
    "N_pts_in_bin  = 5 # numper of samples used to compute the mean and rms in each bin\n",
    "N_data_pts = 190 / bin_width  ## number of data points for the plot\n",
    "sigma_corr = 0.02  ## uncertainty in the correlatoin fucntion\n",
    "## new line\n",
    "correlatipon_fator = 0.8\n",
    "\n",
    "\n",
    "\n",
    "## include nearesst neighbor correlation \n",
    "random_in_bin_last = np.random.randn(N_pts_in_bin)*sigma_corr + theory_mean\n",
    "\n",
    "\n",
    "    \n",
    "i = 0\n",
    "while (i < N_data_pts):\n",
    "    r_bin  = bin_width*(i+1)\n",
    "    theory_mean = gal_gal_cor_empricial_theory[(np.where(r == r_bin))[0] ]\n",
    "    ## inbclude correlations\n",
    "    random_in_bin = np.random.randn(N_pts_in_bin)\n",
    "    \n",
    "    data_in_bin = random_in_bin + correlatipon_fator*random_in_bin_last\n",
    "    data_in_bin /= np.std(data_in_bin)  ## keep the stad at 1 for now\n",
    "    data_in_bin = data_in_bin*sigma_corr + theory_mean\n",
    "\n",
    "    random_in_bin_last = random_in_bin  ## prepare for next sample\n",
    "    \n",
    "        \n",
    "    mean_pt = np.mean(data_in_bin)\n",
    "    stdev_pt = np.std(data_in_bin)\n",
    "    plt.errorbar(r_bin,mean_pt,stdev_pt,marker='s',mec='red',mfc='red',c=\"red\")\n",
    "    i+=1\n",
    "\n",
    "plt.title(\"correlated\")\n",
    "plt.ylim(-.1,.2)\n",
    "\n",
    "\n",
    "\n"
   ]
  },
  {
   "cell_type": "markdown",
   "id": "f681df3c",
   "metadata": {},
   "source": [
    "## excercise\n",
    "\n",
    "how is this different by eye?"
   ]
  },
  {
   "cell_type": "code",
   "execution_count": null,
   "id": "c0d03e25",
   "metadata": {},
   "outputs": [],
   "source": []
  }
 ],
 "metadata": {
  "kernelspec": {
   "display_name": "Python 3 (ipykernel)",
   "language": "python",
   "name": "python3"
  },
  "language_info": {
   "codemirror_mode": {
    "name": "ipython",
    "version": 3
   },
   "file_extension": ".py",
   "mimetype": "text/x-python",
   "name": "python",
   "nbconvert_exporter": "python",
   "pygments_lexer": "ipython3",
   "version": "3.9.7"
  }
 },
 "nbformat": 4,
 "nbformat_minor": 5
}
